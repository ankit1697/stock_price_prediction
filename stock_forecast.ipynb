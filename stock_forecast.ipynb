{
 "cells": [
  {
   "cell_type": "code",
   "execution_count": 1,
   "id": "b71af95f",
   "metadata": {},
   "outputs": [],
   "source": [
    "import numpy as np\n",
    "import pandas as pd\n",
    "from fbprophet import Prophet"
   ]
  },
  {
   "cell_type": "code",
   "execution_count": 2,
   "id": "26af619f",
   "metadata": {},
   "outputs": [],
   "source": [
    "df = pd.read_csv('stock.csv')"
   ]
  },
  {
   "cell_type": "markdown",
   "id": "c94ae1b6",
   "metadata": {},
   "source": [
    "### remove unwanted columns"
   ]
  },
  {
   "cell_type": "code",
   "execution_count": 3,
   "id": "c87d1e18",
   "metadata": {},
   "outputs": [],
   "source": [
    "df = df.drop(['Unnamed: 0', 'open', 'high', 'low', 'volume', 'oi'], 1)"
   ]
  },
  {
   "cell_type": "markdown",
   "id": "a3eb9ef7",
   "metadata": {},
   "source": [
    "### rename columns as 'ds' and 'y' as Prophet requires this naming convention"
   ]
  },
  {
   "cell_type": "code",
   "execution_count": 4,
   "id": "7bead866",
   "metadata": {},
   "outputs": [],
   "source": [
    "df.columns = ['ds', 'y']"
   ]
  },
  {
   "cell_type": "markdown",
   "id": "f0d7dbf4",
   "metadata": {},
   "source": [
    "### remove the '+05:30' string from the end of dates"
   ]
  },
  {
   "cell_type": "code",
   "execution_count": 5,
   "id": "f9934571",
   "metadata": {},
   "outputs": [],
   "source": [
    "df['ds'] = df['ds'].str.replace(r'\\+05:30', '')"
   ]
  },
  {
   "cell_type": "markdown",
   "id": "14fbd305",
   "metadata": {},
   "source": [
    "### convert date column to datetime format"
   ]
  },
  {
   "cell_type": "code",
   "execution_count": 6,
   "id": "b7d30297",
   "metadata": {},
   "outputs": [],
   "source": [
    "df['ds'] = df['ds'].apply(pd.to_datetime)"
   ]
  },
  {
   "cell_type": "markdown",
   "id": "4d843769",
   "metadata": {},
   "source": [
    "### create time series with the missing times"
   ]
  },
  {
   "cell_type": "code",
   "execution_count": 7,
   "id": "d103a8ef",
   "metadata": {},
   "outputs": [],
   "source": [
    "actual = pd.date_range(\"2021-04-27 13:11\", \"2021-05-27 16:39\", freq=\"1min\")"
   ]
  },
  {
   "cell_type": "code",
   "execution_count": 8,
   "id": "43fc3b1b",
   "metadata": {},
   "outputs": [],
   "source": [
    "data = {'ds':actual}\n",
    "complete_df = pd.DataFrame(data)"
   ]
  },
  {
   "cell_type": "code",
   "execution_count": 9,
   "id": "061f9fc4",
   "metadata": {},
   "outputs": [],
   "source": [
    "full = complete_df.merge(df, on='ds', how='left')"
   ]
  },
  {
   "cell_type": "markdown",
   "id": "7daf2371",
   "metadata": {},
   "source": [
    "### filling missing times with the previous values"
   ]
  },
  {
   "cell_type": "code",
   "execution_count": 10,
   "id": "14eef7b3",
   "metadata": {},
   "outputs": [],
   "source": [
    "full['y'] = full['y'].fillna(method='ffill')"
   ]
  },
  {
   "cell_type": "markdown",
   "id": "1d12c6df",
   "metadata": {},
   "source": [
    "### train-test split"
   ]
  },
  {
   "cell_type": "code",
   "execution_count": 11,
   "id": "0aef9fba",
   "metadata": {},
   "outputs": [],
   "source": [
    "train = full[:int(0.8*len(full))]\n",
    "test = full[int(0.8*len(full)):]"
   ]
  },
  {
   "cell_type": "markdown",
   "id": "21646534",
   "metadata": {},
   "source": [
    "### Create Prophet model"
   ]
  },
  {
   "cell_type": "code",
   "execution_count": 12,
   "id": "3d5fb27f",
   "metadata": {},
   "outputs": [
    {
     "name": "stderr",
     "output_type": "stream",
     "text": [
      "INFO:numexpr.utils:NumExpr defaulting to 4 threads.\n",
      "INFO:fbprophet:Disabling yearly seasonality. Run prophet with yearly_seasonality=True to override this.\n"
     ]
    },
    {
     "data": {
      "text/plain": [
       "<fbprophet.forecaster.Prophet at 0x7efd1718ccc0>"
      ]
     },
     "execution_count": 12,
     "metadata": {},
     "output_type": "execute_result"
    }
   ],
   "source": [
    "m = Prophet()\n",
    "m.fit(train)"
   ]
  },
  {
   "cell_type": "code",
   "execution_count": 13,
   "id": "109adb3d",
   "metadata": {},
   "outputs": [],
   "source": [
    "future_df = test[['ds']]"
   ]
  },
  {
   "cell_type": "code",
   "execution_count": 14,
   "id": "45bbac6a",
   "metadata": {},
   "outputs": [],
   "source": [
    "final_df = pd.concat([test, future_df])"
   ]
  },
  {
   "cell_type": "code",
   "execution_count": 15,
   "id": "8c914b72",
   "metadata": {},
   "outputs": [
    {
     "data": {
      "text/html": [
       "<div>\n",
       "<style scoped>\n",
       "    .dataframe tbody tr th:only-of-type {\n",
       "        vertical-align: middle;\n",
       "    }\n",
       "\n",
       "    .dataframe tbody tr th {\n",
       "        vertical-align: top;\n",
       "    }\n",
       "\n",
       "    .dataframe thead th {\n",
       "        text-align: right;\n",
       "    }\n",
       "</style>\n",
       "<table border=\"1\" class=\"dataframe\">\n",
       "  <thead>\n",
       "    <tr style=\"text-align: right;\">\n",
       "      <th></th>\n",
       "      <th>ds</th>\n",
       "      <th>yhat</th>\n",
       "    </tr>\n",
       "  </thead>\n",
       "  <tbody>\n",
       "    <tr>\n",
       "      <th>8677</th>\n",
       "      <td>2021-05-27 16:35:00</td>\n",
       "      <td>2120.320770</td>\n",
       "    </tr>\n",
       "    <tr>\n",
       "      <th>8678</th>\n",
       "      <td>2021-05-27 16:36:00</td>\n",
       "      <td>2120.185910</td>\n",
       "    </tr>\n",
       "    <tr>\n",
       "      <th>8679</th>\n",
       "      <td>2021-05-27 16:37:00</td>\n",
       "      <td>2120.051524</td>\n",
       "    </tr>\n",
       "    <tr>\n",
       "      <th>8680</th>\n",
       "      <td>2021-05-27 16:38:00</td>\n",
       "      <td>2119.917621</td>\n",
       "    </tr>\n",
       "    <tr>\n",
       "      <th>8681</th>\n",
       "      <td>2021-05-27 16:39:00</td>\n",
       "      <td>2119.784211</td>\n",
       "    </tr>\n",
       "  </tbody>\n",
       "</table>\n",
       "</div>"
      ],
      "text/plain": [
       "                      ds         yhat\n",
       "8677 2021-05-27 16:35:00  2120.320770\n",
       "8678 2021-05-27 16:36:00  2120.185910\n",
       "8679 2021-05-27 16:37:00  2120.051524\n",
       "8680 2021-05-27 16:38:00  2119.917621\n",
       "8681 2021-05-27 16:39:00  2119.784211"
      ]
     },
     "execution_count": 15,
     "metadata": {},
     "output_type": "execute_result"
    }
   ],
   "source": [
    "forecast = m.predict(future_df)\n",
    "forecast = forecast[['ds', 'yhat']]\n",
    "forecast.tail()"
   ]
  },
  {
   "cell_type": "code",
   "execution_count": 16,
   "id": "d2e79af8",
   "metadata": {},
   "outputs": [],
   "source": [
    "forecasted_final = test.merge(forecast)"
   ]
  },
  {
   "cell_type": "code",
   "execution_count": 17,
   "id": "c9f709b2",
   "metadata": {},
   "outputs": [
    {
     "data": {
      "text/html": [
       "<div>\n",
       "<style scoped>\n",
       "    .dataframe tbody tr th:only-of-type {\n",
       "        vertical-align: middle;\n",
       "    }\n",
       "\n",
       "    .dataframe tbody tr th {\n",
       "        vertical-align: top;\n",
       "    }\n",
       "\n",
       "    .dataframe thead th {\n",
       "        text-align: right;\n",
       "    }\n",
       "</style>\n",
       "<table border=\"1\" class=\"dataframe\">\n",
       "  <thead>\n",
       "    <tr style=\"text-align: right;\">\n",
       "      <th></th>\n",
       "      <th>ds</th>\n",
       "      <th>y</th>\n",
       "      <th>yhat</th>\n",
       "    </tr>\n",
       "  </thead>\n",
       "  <tbody>\n",
       "    <tr>\n",
       "      <th>0</th>\n",
       "      <td>2021-05-21 15:58:00</td>\n",
       "      <td>1260.0</td>\n",
       "      <td>735.132739</td>\n",
       "    </tr>\n",
       "    <tr>\n",
       "      <th>1</th>\n",
       "      <td>2021-05-21 15:59:00</td>\n",
       "      <td>1260.0</td>\n",
       "      <td>735.468814</td>\n",
       "    </tr>\n",
       "    <tr>\n",
       "      <th>2</th>\n",
       "      <td>2021-05-21 16:00:00</td>\n",
       "      <td>1260.0</td>\n",
       "      <td>735.804892</td>\n",
       "    </tr>\n",
       "    <tr>\n",
       "      <th>3</th>\n",
       "      <td>2021-05-21 16:01:00</td>\n",
       "      <td>1260.0</td>\n",
       "      <td>736.140978</td>\n",
       "    </tr>\n",
       "    <tr>\n",
       "      <th>4</th>\n",
       "      <td>2021-05-21 16:02:00</td>\n",
       "      <td>1260.0</td>\n",
       "      <td>736.477083</td>\n",
       "    </tr>\n",
       "  </tbody>\n",
       "</table>\n",
       "</div>"
      ],
      "text/plain": [
       "                   ds       y        yhat\n",
       "0 2021-05-21 15:58:00  1260.0  735.132739\n",
       "1 2021-05-21 15:59:00  1260.0  735.468814\n",
       "2 2021-05-21 16:00:00  1260.0  735.804892\n",
       "3 2021-05-21 16:01:00  1260.0  736.140978\n",
       "4 2021-05-21 16:02:00  1260.0  736.477083"
      ]
     },
     "execution_count": 17,
     "metadata": {},
     "output_type": "execute_result"
    }
   ],
   "source": [
    "forecasted_final.head()"
   ]
  },
  {
   "cell_type": "markdown",
   "id": "25c65c96",
   "metadata": {},
   "source": [
    "### Create future dataframe upto 2021-05-27 00:00"
   ]
  },
  {
   "cell_type": "code",
   "execution_count": 18,
   "id": "44ae9e87",
   "metadata": {},
   "outputs": [],
   "source": [
    "# future = pd.date_range(\"2021-05-27 16:40\", \"2021-05-27 23:59\", freq=\"1min\")"
   ]
  },
  {
   "cell_type": "code",
   "execution_count": 19,
   "id": "80771088",
   "metadata": {},
   "outputs": [],
   "source": [
    "# data = {'ds':future}\n",
    "# future_df = pd.DataFrame(data)"
   ]
  },
  {
   "cell_type": "code",
   "execution_count": 20,
   "id": "a88c86aa",
   "metadata": {},
   "outputs": [],
   "source": [
    "# final_df = pd.concat([df, future_df])"
   ]
  },
  {
   "cell_type": "markdown",
   "id": "13af6534",
   "metadata": {},
   "source": [
    "### Generate predictions"
   ]
  },
  {
   "cell_type": "code",
   "execution_count": 21,
   "id": "94748707",
   "metadata": {},
   "outputs": [],
   "source": [
    "# forecast = m.predict(final_df)\n",
    "# forecast = forecast[['ds', 'yhat']]\n",
    "# forecast.tail()"
   ]
  },
  {
   "cell_type": "code",
   "execution_count": 22,
   "id": "9cbe0162",
   "metadata": {},
   "outputs": [],
   "source": [
    "# forecasted_final = final_df.merge(forecast)"
   ]
  },
  {
   "cell_type": "code",
   "execution_count": 23,
   "id": "960677c9",
   "metadata": {},
   "outputs": [],
   "source": [
    "# forecasted_final.plot(x='ds', figsize=(20,10))"
   ]
  },
  {
   "cell_type": "markdown",
   "id": "49ce4951",
   "metadata": {},
   "source": [
    "### Calculate accuracy"
   ]
  },
  {
   "cell_type": "code",
   "execution_count": 24,
   "id": "598def1a",
   "metadata": {},
   "outputs": [],
   "source": [
    "forecasted_final['actual_up_trend'] = forecasted_final['y'].pct_change(5)\n",
    "forecasted_final['foreasted_up_trend'] = forecasted_final['yhat'].pct_change(5)"
   ]
  },
  {
   "cell_type": "code",
   "execution_count": 30,
   "id": "3fec62a1",
   "metadata": {},
   "outputs": [],
   "source": [
    "forecasted_final = forecasted_final.fillna(0)"
   ]
  },
  {
   "cell_type": "code",
   "execution_count": 48,
   "id": "495d38ed",
   "metadata": {},
   "outputs": [],
   "source": [
    "def f(row):\n",
    "    ratio = 0.03\n",
    "    if (row['actual_up_trend'] > ratio) and (row['foreasted_up_trend'] > ratio):\n",
    "        val = 1\n",
    "    elif (row['actual_up_trend'] < ratio) and (row['foreasted_up_trend'] > ratio):\n",
    "        val = 0\n",
    "    else:\n",
    "        val = 2\n",
    "    return val"
   ]
  },
  {
   "cell_type": "markdown",
   "id": "d3506e6e",
   "metadata": {},
   "source": [
    "### Counting the number of 1 and 0 values"
   ]
  },
  {
   "cell_type": "code",
   "execution_count": 49,
   "id": "abf6946e",
   "metadata": {},
   "outputs": [],
   "source": [
    "forecasted_final['result'] = forecasted_final.apply(f, 1)"
   ]
  },
  {
   "cell_type": "code",
   "execution_count": 50,
   "id": "a4d81ec3",
   "metadata": {},
   "outputs": [
    {
     "data": {
      "text/html": [
       "<div>\n",
       "<style scoped>\n",
       "    .dataframe tbody tr th:only-of-type {\n",
       "        vertical-align: middle;\n",
       "    }\n",
       "\n",
       "    .dataframe tbody tr th {\n",
       "        vertical-align: top;\n",
       "    }\n",
       "\n",
       "    .dataframe thead th {\n",
       "        text-align: right;\n",
       "    }\n",
       "</style>\n",
       "<table border=\"1\" class=\"dataframe\">\n",
       "  <thead>\n",
       "    <tr style=\"text-align: right;\">\n",
       "      <th></th>\n",
       "      <th>ds</th>\n",
       "      <th>y</th>\n",
       "      <th>yhat</th>\n",
       "      <th>actual_up_trend</th>\n",
       "      <th>foreasted_up_trend</th>\n",
       "      <th>result</th>\n",
       "    </tr>\n",
       "  </thead>\n",
       "  <tbody>\n",
       "  </tbody>\n",
       "</table>\n",
       "</div>"
      ],
      "text/plain": [
       "Empty DataFrame\n",
       "Columns: [ds, y, yhat, actual_up_trend, foreasted_up_trend, result]\n",
       "Index: []"
      ]
     },
     "execution_count": 50,
     "metadata": {},
     "output_type": "execute_result"
    }
   ],
   "source": [
    "forecasted_final[forecasted_final['result'] == 0]"
   ]
  },
  {
   "cell_type": "code",
   "execution_count": 51,
   "id": "0a659cca",
   "metadata": {},
   "outputs": [
    {
     "data": {
      "text/plain": [
       "2    8682\n",
       "Name: result, dtype: int64"
      ]
     },
     "execution_count": 51,
     "metadata": {},
     "output_type": "execute_result"
    }
   ],
   "source": [
    "forecasted_final['result'].value_counts()"
   ]
  },
  {
   "cell_type": "code",
   "execution_count": 43,
   "id": "a5867999",
   "metadata": {},
   "outputs": [
    {
     "data": {
      "text/plain": [
       "0.4645776566757493"
      ]
     },
     "execution_count": 43,
     "metadata": {},
     "output_type": "execute_result"
    }
   ],
   "source": [
    "341 / (393+341)"
   ]
  },
  {
   "cell_type": "code",
   "execution_count": null,
   "id": "3c2ddecf",
   "metadata": {},
   "outputs": [],
   "source": []
  }
 ],
 "metadata": {
  "kernelspec": {
   "display_name": "Python 3",
   "language": "python",
   "name": "python3"
  },
  "language_info": {
   "codemirror_mode": {
    "name": "ipython",
    "version": 3
   },
   "file_extension": ".py",
   "mimetype": "text/x-python",
   "name": "python",
   "nbconvert_exporter": "python",
   "pygments_lexer": "ipython3",
   "version": "3.6.13"
  }
 },
 "nbformat": 4,
 "nbformat_minor": 5
}
