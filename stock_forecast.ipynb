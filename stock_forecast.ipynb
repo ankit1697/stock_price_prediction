{
 "cells": [
  {
   "cell_type": "code",
   "execution_count": 248,
   "id": "occupational-simple",
   "metadata": {},
   "outputs": [],
   "source": [
    "import numpy as np\n",
    "import pandas as pd\n",
    "from fbprophet import Prophet"
   ]
  },
  {
   "cell_type": "code",
   "execution_count": 249,
   "id": "buried-giving",
   "metadata": {},
   "outputs": [],
   "source": [
    "df = pd.read_csv('stock.csv')"
   ]
  },
  {
   "cell_type": "markdown",
   "id": "convinced-treaty",
   "metadata": {},
   "source": [
    "### remove unwanted columns"
   ]
  },
  {
   "cell_type": "code",
   "execution_count": 250,
   "id": "egyptian-halifax",
   "metadata": {},
   "outputs": [],
   "source": [
    "df = df.drop(['Unnamed: 0', 'open', 'high', 'low', 'volume', 'oi'], 1)"
   ]
  },
  {
   "cell_type": "markdown",
   "id": "collected-universe",
   "metadata": {},
   "source": [
    "### rename columns as 'ds' and 'y' as Prophet requires this naming convention"
   ]
  },
  {
   "cell_type": "code",
   "execution_count": 251,
   "id": "published-flush",
   "metadata": {},
   "outputs": [],
   "source": [
    "df.columns = ['ds', 'y']"
   ]
  },
  {
   "cell_type": "markdown",
   "id": "sexual-california",
   "metadata": {},
   "source": [
    "### remove the '+05:30' string from the end of dates"
   ]
  },
  {
   "cell_type": "code",
   "execution_count": 252,
   "id": "continuing-color",
   "metadata": {},
   "outputs": [
    {
     "name": "stderr",
     "output_type": "stream",
     "text": [
      "<ipython-input-252-1a43b65f06ed>:1: FutureWarning: The default value of regex will change from True to False in a future version.\n",
      "  df['ds'] = df['ds'].str.replace(r'\\+05:30', '')\n"
     ]
    }
   ],
   "source": [
    "df['ds'] = df['ds'].str.replace(r'\\+05:30', '')"
   ]
  },
  {
   "cell_type": "markdown",
   "id": "broken-macintosh",
   "metadata": {},
   "source": [
    "### convert date column to datetime format"
   ]
  },
  {
   "cell_type": "code",
   "execution_count": 253,
   "id": "antique-canberra",
   "metadata": {},
   "outputs": [],
   "source": [
    "df['ds'] = df['ds'].apply(pd.to_datetime)"
   ]
  },
  {
   "cell_type": "markdown",
   "id": "green-terror",
   "metadata": {},
   "source": [
    "### create time series with the missing times"
   ]
  },
  {
   "cell_type": "code",
   "execution_count": 254,
   "id": "loose-gather",
   "metadata": {},
   "outputs": [],
   "source": [
    "actual = pd.date_range(\"2021-04-27 13:11\", \"2021-05-27 16:39\", freq=\"1min\")"
   ]
  },
  {
   "cell_type": "code",
   "execution_count": 255,
   "id": "critical-healthcare",
   "metadata": {},
   "outputs": [],
   "source": [
    "data = {'ds':actual}\n",
    "complete_df = pd.DataFrame(data)"
   ]
  },
  {
   "cell_type": "code",
   "execution_count": 256,
   "id": "proprietary-diploma",
   "metadata": {},
   "outputs": [],
   "source": [
    "full = complete_df.merge(df, on='ds', how='left')"
   ]
  },
  {
   "cell_type": "markdown",
   "id": "together-calculator",
   "metadata": {},
   "source": [
    "### filling missing times with the previous values"
   ]
  },
  {
   "cell_type": "code",
   "execution_count": 257,
   "id": "awful-wyoming",
   "metadata": {},
   "outputs": [],
   "source": [
    "full['y'] = full['y'].fillna(method='ffill')"
   ]
  },
  {
   "cell_type": "markdown",
   "id": "motivated-needle",
   "metadata": {},
   "source": [
    "### Create Prophet model"
   ]
  },
  {
   "cell_type": "code",
   "execution_count": 260,
   "id": "assisted-cargo",
   "metadata": {},
   "outputs": [
    {
     "name": "stderr",
     "output_type": "stream",
     "text": [
      "INFO:fbprophet:Disabling yearly seasonality. Run prophet with yearly_seasonality=True to override this.\n"
     ]
    },
    {
     "data": {
      "text/plain": [
       "<fbprophet.forecaster.Prophet at 0x1696cd970>"
      ]
     },
     "execution_count": 260,
     "metadata": {},
     "output_type": "execute_result"
    }
   ],
   "source": [
    "m = Prophet()\n",
    "m.fit(full)"
   ]
  },
  {
   "cell_type": "markdown",
   "id": "helpful-singapore",
   "metadata": {},
   "source": [
    "### Create future dataframe upto 2021-05-27 00:00"
   ]
  },
  {
   "cell_type": "code",
   "execution_count": 261,
   "id": "accompanied-pencil",
   "metadata": {},
   "outputs": [],
   "source": [
    "future = pd.date_range(\"2021-05-27 16:40\", \"2021-05-27 23:59\", freq=\"1min\")"
   ]
  },
  {
   "cell_type": "code",
   "execution_count": 262,
   "id": "changing-windows",
   "metadata": {},
   "outputs": [],
   "source": [
    "data = {'ds':future}\n",
    "future_df = pd.DataFrame(data)"
   ]
  },
  {
   "cell_type": "code",
   "execution_count": 263,
   "id": "cloudy-baseball",
   "metadata": {},
   "outputs": [],
   "source": [
    "final_df = pd.concat([df, future_df])"
   ]
  },
  {
   "cell_type": "markdown",
   "id": "polyphonic-yield",
   "metadata": {},
   "source": [
    "### Generate predictions"
   ]
  },
  {
   "cell_type": "code",
   "execution_count": 264,
   "id": "nonprofit-oxford",
   "metadata": {},
   "outputs": [
    {
     "data": {
      "text/html": [
       "<div>\n",
       "<style scoped>\n",
       "    .dataframe tbody tr th:only-of-type {\n",
       "        vertical-align: middle;\n",
       "    }\n",
       "\n",
       "    .dataframe tbody tr th {\n",
       "        vertical-align: top;\n",
       "    }\n",
       "\n",
       "    .dataframe thead th {\n",
       "        text-align: right;\n",
       "    }\n",
       "</style>\n",
       "<table border=\"1\" class=\"dataframe\">\n",
       "  <thead>\n",
       "    <tr style=\"text-align: right;\">\n",
       "      <th></th>\n",
       "      <th>ds</th>\n",
       "      <th>yhat</th>\n",
       "    </tr>\n",
       "  </thead>\n",
       "  <tbody>\n",
       "    <tr>\n",
       "      <th>8414</th>\n",
       "      <td>2021-05-27 23:55:00</td>\n",
       "      <td>1018.920395</td>\n",
       "    </tr>\n",
       "    <tr>\n",
       "      <th>8415</th>\n",
       "      <td>2021-05-27 23:56:00</td>\n",
       "      <td>1018.915576</td>\n",
       "    </tr>\n",
       "    <tr>\n",
       "      <th>8416</th>\n",
       "      <td>2021-05-27 23:57:00</td>\n",
       "      <td>1018.910929</td>\n",
       "    </tr>\n",
       "    <tr>\n",
       "      <th>8417</th>\n",
       "      <td>2021-05-27 23:58:00</td>\n",
       "      <td>1018.906459</td>\n",
       "    </tr>\n",
       "    <tr>\n",
       "      <th>8418</th>\n",
       "      <td>2021-05-27 23:59:00</td>\n",
       "      <td>1018.902167</td>\n",
       "    </tr>\n",
       "  </tbody>\n",
       "</table>\n",
       "</div>"
      ],
      "text/plain": [
       "                      ds         yhat\n",
       "8414 2021-05-27 23:55:00  1018.920395\n",
       "8415 2021-05-27 23:56:00  1018.915576\n",
       "8416 2021-05-27 23:57:00  1018.910929\n",
       "8417 2021-05-27 23:58:00  1018.906459\n",
       "8418 2021-05-27 23:59:00  1018.902167"
      ]
     },
     "execution_count": 264,
     "metadata": {},
     "output_type": "execute_result"
    }
   ],
   "source": [
    "forecast = m.predict(final_df)\n",
    "forecast = forecast[['ds', 'yhat']]\n",
    "forecast.tail()"
   ]
  },
  {
   "cell_type": "code",
   "execution_count": 265,
   "id": "phantom-pillow",
   "metadata": {},
   "outputs": [],
   "source": [
    "forecasted_final = final_df.merge(forecast)"
   ]
  },
  {
   "cell_type": "code",
   "execution_count": 266,
   "id": "tender-carpet",
   "metadata": {},
   "outputs": [
    {
     "data": {
      "text/plain": [
       "<AxesSubplot:xlabel='ds'>"
      ]
     },
     "execution_count": 266,
     "metadata": {},
     "output_type": "execute_result"
    },
    {
     "data": {
      "image/png": "[encoded data removed]",
      "text/plain": [
       "<Figure size 1440x720 with 1 Axes>"
      ]
     },
     "metadata": {
      "needs_background": "light"
     },
     "output_type": "display_data"
    }
   ],
   "source": [
    "forecasted_final.plot(x='ds', figsize=(20,10))"
   ]
  },
  {
   "cell_type": "markdown",
   "id": "driving-arbor",
   "metadata": {},
   "source": [
    "### Calculate accuracy"
   ]
  },
  {
   "cell_type": "code",
   "execution_count": 267,
   "id": "electrical-insight",
   "metadata": {},
   "outputs": [],
   "source": [
    "forecasted_final['actual_up_trend'] = forecasted_final['y'].pct_change(5)\n",
    "forecasted_final['foreasted_up_trend'] = forecasted_final['yhat'].pct_change(5)"
   ]
  },
  {
   "cell_type": "code",
   "execution_count": 268,
   "id": "stretch-wyoming",
   "metadata": {},
   "outputs": [],
   "source": [
    "def f(row):\n",
    "    if (row['actual_up_trend'] >= 0.03) and (row['foreasted_up_trend'] < 0.03):\n",
    "        val = 0\n",
    "    else:\n",
    "        val = 1\n",
    "    return val"
   ]
  },
  {
   "cell_type": "code",
   "execution_count": 269,
   "id": "human-spyware",
   "metadata": {},
   "outputs": [],
   "source": [
    "forecasted_final['accuracy'] = np.nan"
   ]
  },
  {
   "cell_type": "markdown",
   "id": "attractive-fetish",
   "metadata": {},
   "source": [
    "### Counting the number of 1 and 0 values"
   ]
  },
  {
   "cell_type": "code",
   "execution_count": 270,
   "id": "corresponding-petersburg",
   "metadata": {},
   "outputs": [
    {
     "data": {
      "text/plain": [
       "1    7281\n",
       "0    1138\n",
       "dtype: int64"
      ]
     },
     "execution_count": 270,
     "metadata": {},
     "output_type": "execute_result"
    }
   ],
   "source": [
    "forecasted_final.apply(f, 1).value_counts()"
   ]
  },
  {
   "cell_type": "code",
   "execution_count": 271,
   "id": "daily-major",
   "metadata": {},
   "outputs": [
    {
     "data": {
      "text/plain": [
       "0.8648295522033496"
      ]
     },
     "execution_count": 271,
     "metadata": {},
     "output_type": "execute_result"
    }
   ],
   "source": [
    "7281 / (7281+1138)"
   ]
  }
 ],
 "metadata": {
  "kernelspec": {
   "display_name": "py38",
   "language": "python",
   "name": "py38"
  },
  "language_info": {
   "codemirror_mode": {
    "name": "ipython",
    "version": 3
   },
   "file_extension": ".py",
   "mimetype": "text/x-python",
   "name": "python",
   "nbconvert_exporter": "python",
   "pygments_lexer": "ipython3",
   "version": "3.9.5"
  }
 },
 "nbformat": 4,
 "nbformat_minor": 5
}
